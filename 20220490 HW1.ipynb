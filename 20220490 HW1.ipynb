{
 "cells": [
  {
   "cell_type": "markdown",
   "metadata": {},
   "source": [
    "# HW01\n",
    "In this assignment, you will practice basics of python, numpy and pandas.\n",
    "\n",
    "Please follow the instructions below:\n",
    "\n",
    "1. Write down your code between <br>\n",
    "&nbsp;&nbsp;&nbsp;&nbsp; **\\# BEGIN_YOUR_CODE**<br>\n",
    "&nbsp;&nbsp;&nbsp;&nbsp; and<br>\n",
    "&nbsp;&nbsp;&nbsp;&nbsp; **\\# END_YOUR_CODE**.\n",
    "\n",
    "2. Do not use **external libraries**. (i.e., Do not use any `import` in your code) <br>\n",
    "   Your code will fail to execute and get **0 score** if you use them.\n",
    "\n",
    "3. Rename this file to **[student_id].ipynb** (e.g. 20221234.ipynb) and submit it to PLMS. <br>\n",
    "   There is **20% penalty** if you do not follow the submission format.\n",
    "\n",
    "4. Submission more than one day late is not accepted.\n",
    "   There is **50% penalty** for late submission up to one day."
   ]
  },
  {
   "cell_type": "code",
   "execution_count": 1,
   "metadata": {},
   "outputs": [],
   "source": [
    "import numpy as np\n",
    "import pandas as pd"
   ]
  },
  {
   "cell_type": "markdown",
   "metadata": {},
   "source": [
    "## Problem 1. Fibonacci [2 points]\n",
    "Given `n`, implement function `fib(n)` that calculates `n`-th Fibonacci number. <br>\n",
    "Assume `n` is a positive integer and `fib(0)`=0, `fib(1)`=1."
   ]
  },
  {
   "cell_type": "code",
   "execution_count": 169,
   "metadata": {},
   "outputs": [],
   "source": [
    "def fib(n):\n",
    "    # BEGIN_YOUR_CODE\n",
    "    if n==0 : return 0\n",
    "    elif n==1 or n==2 : return 1\n",
    "    else : return fib(n-1)+fib(n-2) \n",
    "    # END_YOUR_CODE"
   ]
  },
  {
   "cell_type": "markdown",
   "metadata": {},
   "source": [
    "## Problem 2. Maximum Word Count [2 points]\n",
    "Given `filename`, implement function `max_word_count(filename)` that finds the most frequent words. <br>\n",
    "You should open a file whose name is `filename` and return two things as a tuple: <br>\n",
    "The first one is a set of words that occur the maximum number of times and the second one is their counts."
   ]
  },
  {
   "cell_type": "code",
   "execution_count": 168,
   "metadata": {},
   "outputs": [],
   "source": [
    "def max_word_count(filename):\n",
    "    # BEGIN_YOUR_CODE\n",
    "    with open(filename,'r') as file:\n",
    "        words=[]\n",
    "        while True:\n",
    "             line=file.readline()\n",
    "             if not line: break\n",
    "             for word in line.split():\n",
    "                  words.append(word)\n",
    "        wordcount={}\n",
    "        for word in words:\n",
    "            if word not in wordcount:\n",
    "                temp={word:1}\n",
    "                wordcount.update(temp)          \n",
    "            else:\n",
    "                wordcount[word]+=1\n",
    "                 \n",
    "    max_count=max(wordcount.values())\n",
    "    maxword=[]\n",
    "    for word in wordcount:\n",
    "        if max_count==wordcount[word]:\n",
    "            maxword.append(word)\n",
    "    word_set=set(maxword)\n",
    "    result=(word_set,max_count)\n",
    "    return result\n",
    "    # END_YOUR_CODE"
   ]
  },
  {
   "cell_type": "markdown",
   "metadata": {},
   "source": [
    "## Problem 3. Average Price [3 points]\n",
    "Given `cars`, implement function `average_prices(cars)` that returns a dictionary which contains each `brand` as a key and the average price of cars of that `brand` as a value."
   ]
  },
  {
   "cell_type": "code",
   "execution_count": 167,
   "metadata": {},
   "outputs": [],
   "source": [
    "class car:\n",
    "    def __init__(self, args):\n",
    "        brand, model, price =  args\n",
    "        self.brand = brand\n",
    "        self.model = model\n",
    "        self.price = price\n",
    "\n",
    "def average_prices(cars):\n",
    "    # BEGIN_YOUR_CODE\n",
    "    car_dictionary={}\n",
    "    result_dict={}\n",
    "    for car in cars:\n",
    "        brand=car['brand']\n",
    "        price=car['price']\n",
    "\n",
    "        if brand not in car_dictionary:\n",
    "            car_dictionary[brand]={'total': 0, 'count': 0}\n",
    "\n",
    "        car_dictionary[brand]['total']+=price\n",
    "        car_dictionary[brand]['count']+=1   \n",
    "    for brand in car_dictionary:\n",
    "        total=car_dictionary[brand]['total']\n",
    "        count=car_dictionary[brand]['count']\n",
    "        avg_price=total/count\n",
    "        result_dict[brand]=avg_price\n",
    "\n",
    "    return result_dict\n",
    "    # END_YOUR_CODE"
   ]
  },
  {
   "cell_type": "markdown",
   "metadata": {},
   "source": [
    "## Problem 4. Manhattan Distance [2 points]\n",
    "Given two numpy arrays `arr1` and `arr2`, implement function `manhattan_distance` that calculates Manhattan distance between `arr1` and `arr2`. <br>\n",
    "You need to utilize numpy library for this problem."
   ]
  },
  {
   "cell_type": "code",
   "execution_count": 166,
   "metadata": {},
   "outputs": [],
   "source": [
    "def manhattan_distance(arr1, arr2):\n",
    "    # BEGIN_YOUR_CODE\n",
    "    return np.sum(np.abs(arr1-arr2))\n",
    "    # END_YOUR_CODE"
   ]
  },
  {
   "cell_type": "markdown",
   "metadata": {},
   "source": [
    "## Problem 5. CSV Modification [5 points]\n",
    "Your goal is to modify given csv file with below constraints. <br>\n",
    "The inputs are paths of the original data and modified data. <br>\n",
    "You need to utilize pandas library for this problem.\n",
    "\n",
    "### Constraints\n",
    "- The requirements must be followed in the same order as given below.<br>\n",
    "  (If not, you might attain different results although you followed everything correctly.)\n",
    "1. The modified csv file should not contain columns `Cabin` and `Embarked`.\n",
    "2. The modified csv file should not contain missing values. <br>\n",
    "   All rows with a missing value needs to be dropped.\n",
    "3. The modified csv file should only have `survived` = 1.\n",
    "4. The column `Pclass` should be one hot encoding.\n",
    "5. Value of `Age` should be `young` if it is smaller than 65 and `old` otherwise."
   ]
  },
  {
   "cell_type": "code",
   "execution_count": 165,
   "metadata": {},
   "outputs": [],
   "source": [
    "def titanic(original_file, modified_file):\n",
    "    # BEGIN_YOUR_CODE\n",
    "    df=pd.read_csv(original_file)\n",
    "    df=df.drop(['Cabin'],axis=1)\n",
    "    df=df.drop(['Embarked'],axis=1)\n",
    "\n",
    "    df=df.dropna()\n",
    "\n",
    "    df=df[df['Survived']==1]\n",
    "\n",
    "    M=df['Pclass'].max()\n",
    "    def make_one_hot(p):\n",
    "        row=[0]*M\n",
    "        row[p]=1\n",
    "        return str(row)\n",
    "    df['Pclass']=df['Pclass'].apply(lambda x: make_one_hot(x-1))\n",
    "    df=df.rename(columns={\"Pclass\":\"['1', '2', '3']\"})\n",
    "\n",
    "    df['Age']=df['Age'].apply(lambda x: 'young' if x<65 else 'old')\n",
    "    # END_YOUR_CODE\n",
    "    df.to_csv(modified_file, index=False)"
   ]
  },
  {
   "cell_type": "markdown",
   "metadata": {},
   "source": [
    "## Problem 6. Employee and Department [6 points]\n",
    "For this problem, three csv files, `departments.csv`, `employees.csv` and `employees2.csv`, are given. <br>\n",
    "There are 2 sub problems. <br>\n",
    "You need to utilize pandas library for this problem."
   ]
  },
  {
   "cell_type": "markdown",
   "metadata": {},
   "source": [
    "### 6.a Employee Table [3 points]\n",
    "Make employee table that has `name`, `salary` and `department_name` as columns. <br>\n",
    "Note that each department has its own `department_id` and `department_name`."
   ]
  },
  {
   "cell_type": "code",
   "execution_count": 164,
   "metadata": {},
   "outputs": [],
   "source": [
    "def emp_table(dep, emp1, emp2):\n",
    "    # BEGIN_YOUR_CODE\n",
    "    dep_df=pd.read_csv(dep)\n",
    "    emp1_df=pd.read_csv(emp1)\n",
    "    emp2_df=pd.read_csv(emp2)\n",
    "    emp_df=pd.concat([emp1_df,emp2_df],ignore_index=True)\n",
    "    df=pd.merge(left=emp_df,right=dep_df,how='left',on=\"department_id\")\n",
    "    df=df.drop(['department_id'],axis=1)\n",
    "    df=df.drop(['employee_id'],axis=1)\n",
    "    # END_YOUR_CODE\n",
    "    return df"
   ]
  },
  {
   "cell_type": "markdown",
   "metadata": {},
   "source": [
    "### 6.b Highest Salary [3 points]\n",
    "Find an employee with the highest salary of each department. <br>\n",
    "The output must be a dictionary which contains `department_name` as a key and an employee's `name` as a value. <br>\n",
    "You can use `emp_table` in 6.a."
   ]
  },
  {
   "cell_type": "code",
   "execution_count": 163,
   "metadata": {},
   "outputs": [],
   "source": [
    "def highest_salary(dep, emp1, emp2):\n",
    "    # BEGIN_YOUR_CODE\n",
    "    df=emp_table(dep,emp1,emp2)\n",
    "    df=df.sort_values(by=['salary'],ascending=[False])\n",
    "    df=df.groupby(['department_name']).head(1)\n",
    "    df=df.drop(['salary'],axis=1)\n",
    "    df=df.set_index(['department_name'])\n",
    "    dic=df['name'].to_dict()\n",
    "    return dic\n",
    "    # END_YOUR_CODE"
   ]
  }
 ],
 "metadata": {
  "anaconda-cloud": {},
  "kernelspec": {
   "display_name": "Python 3",
   "language": "python",
   "name": "python3"
  },
  "language_info": {
   "codemirror_mode": {
    "name": "ipython",
    "version": 3
   },
   "file_extension": ".py",
   "mimetype": "text/x-python",
   "name": "python",
   "nbconvert_exporter": "python",
   "pygments_lexer": "ipython3",
   "version": "3.11.4"
  }
 },
 "nbformat": 4,
 "nbformat_minor": 1
}
